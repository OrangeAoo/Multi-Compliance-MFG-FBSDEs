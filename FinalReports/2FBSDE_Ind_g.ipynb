{
 "cells": [
  {
   "cell_type": "code",
   "execution_count": 1,
   "metadata": {},
   "outputs": [
    {
     "data": {
      "text/plain": [
       "<torch.autograd.anomaly_mode.set_detect_anomaly at 0x13c993ed0>"
      ]
     },
     "execution_count": 1,
     "metadata": {},
     "output_type": "execute_result"
    }
   ],
   "source": [
    "import numpy as np\n",
    "import torch as torch\n",
    "import torch.nn as nn\n",
    "import torch.nn.functional as F\n",
    "import torch.optim as optim\n",
    "import seaborn as sns\n",
    "import pandas as pd\n",
    "import matplotlib.pyplot as plt\n",
    "from datetime import datetime\n",
    "import random\n",
    "from scipy.stats import norm\n",
    "\n",
    "import os\n",
    "import pathlib\n",
    "\n",
    "torch.autograd.set_detect_anomaly(True)\n",
    "# start_time=datetime.now().strftime('%B %d - %H:%M:%S')"
   ]
  },
  {
   "cell_type": "markdown",
   "metadata": {},
   "source": [
    ">## 2-(Counpled-)FBSDE System:\n",
    "### Terminal Condition with Jump -- Indicator function"
   ]
  },
  {
   "cell_type": "markdown",
   "metadata": {},
   "source": [
    "After we preliminarily build up a NN framework, making sure that it works fine, we then start looking at a more complicated problem - indicator functions as terminal conditions. \n",
    "\n",
    "Intuitively, any continuous function $g:\\mathbb{R} \\rightarrow \\mathbb{R}$ can be appoximated by\n",
    "\n",
    "$$\n",
    "g(x)=\\Phi_0 + \\sum_{j=1}^{\\bar{N}}{w_j(K_j-x)_+}\n",
    "$$\n",
    "for _weights_ $\\Phi_0, w_j \\in \\mathbb{R}_+$ and _knot points_ $K_j \\in \\mathbb{R},~j=1, ..., \\bar{N}$. \n",
    "\n",
    "Note that the differentiablilty of g is satisfied everywhere except at a finite number of _knot points_, which does not affect the implementation. \n",
    "\n"
   ]
  },
  {
   "cell_type": "markdown",
   "metadata": {},
   "source": []
  },
  {
   "cell_type": "markdown",
   "metadata": {},
   "source": []
  }
 ],
 "metadata": {
  "kernelspec": {
   "display_name": "env_py_311",
   "language": "python",
   "name": "python3"
  },
  "language_info": {
   "codemirror_mode": {
    "name": "ipython",
    "version": 3
   },
   "file_extension": ".py",
   "mimetype": "text/x-python",
   "name": "python",
   "nbconvert_exporter": "python",
   "pygments_lexer": "ipython3",
   "version": "3.11.8"
  }
 },
 "nbformat": 4,
 "nbformat_minor": 2
}
