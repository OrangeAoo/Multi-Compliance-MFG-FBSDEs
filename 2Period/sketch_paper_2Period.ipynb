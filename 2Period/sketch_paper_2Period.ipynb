version https://git-lfs.github.com/spec/v1
oid sha256:2521447d2d1cc1eaa39783a7ba7478547b34c7cc41c0e5c561367ae6b649714a
size 2860711
